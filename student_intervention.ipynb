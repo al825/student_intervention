{
 "cells": [
  {
   "cell_type": "markdown",
   "metadata": {},
   "source": [
    "# Machine Learning Engineer Nanodegree\n",
    "## Supervised Learning\n",
    "## Project 2: Building a Student Intervention System"
   ]
  },
  {
   "cell_type": "markdown",
   "metadata": {},
   "source": [
    "Welcome to the second project of the Machine Learning Engineer Nanodegree! In this notebook, some template code has already been provided for you, and it will be your job to implement the additional functionality necessary to successfully complete this project. Sections that begin with **'Implementation'** in the header indicate that the following block of code will require additional functionality which you must provide. Instructions will be provided for each section and the specifics of the implementation are marked in the code block with a `'TODO'` statement. Please be sure to read the instructions carefully!\n",
    "\n",
    "In addition to implementing code, there will be questions that you must answer which relate to the project and your implementation. Each section where you will answer a question is preceded by a **'Question X'** header. Carefully read each question and provide thorough answers in the following text boxes that begin with **'Answer:'**. Your project submission will be evaluated based on your answers to each of the questions and the implementation you provide.  \n",
    "\n",
    ">**Note:** Code and Markdown cells can be executed using the **Shift + Enter** keyboard shortcut. In addition, Markdown cells can be edited by typically double-clicking the cell to enter edit mode."
   ]
  },
  {
   "cell_type": "markdown",
   "metadata": {},
   "source": [
    "### Question 1 - Classification vs. Regression\n",
    "*Your goal for this project is to identify students who might need early intervention before they fail to graduate. Which type of supervised learning problem is this, classification or regression? Why?*"
   ]
  },
  {
   "cell_type": "markdown",
   "metadata": {},
   "source": [
    "**Answer: Classification. Because the response variable is a binary one not a continuous one. "
   ]
  },
  {
   "cell_type": "markdown",
   "metadata": {},
   "source": [
    "## Exploring the Data\n",
    "Run the code cell below to load necessary Python libraries and load the student data. Note that the last column from this dataset, `'passed'`, will be our target label (whether the student graduated or didn't graduate). All other columns are features about each student."
   ]
  },
  {
   "cell_type": "code",
   "execution_count": 2,
   "metadata": {
    "collapsed": false
   },
   "outputs": [
    {
     "name": "stdout",
     "output_type": "stream",
     "text": [
      "Student data read successfully!\n"
     ]
    }
   ],
   "source": [
    "# Import libraries\n",
    "import numpy as np\n",
    "import pandas as pd\n",
    "from time import time\n",
    "from sklearn.metrics import f1_score\n",
    "import matplotlib.pyplot as pl\n",
    "\n",
    "# Pretty display for notebooks\n",
    "%matplotlib inline\n",
    "\n",
    "# Read student data\n",
    "student_data = pd.read_csv(\"student-data.csv\")\n",
    "print (\"Student data read successfully!\")\n",
    "\n"
   ]
  },
  {
   "cell_type": "markdown",
   "metadata": {},
   "source": [
    "### Implementation: Data Exploration\n",
    "Let's begin by investigating the dataset to determine how many students we have information on, and learn about the graduation rate among these students. In the code cell below, you will need to compute the following:\n",
    "- The total number of students, `n_students`.\n",
    "- The total number of features for each student, `n_features`.\n",
    "- The number of those students who passed, `n_passed`.\n",
    "- The number of those students who failed, `n_failed`.\n",
    "- The graduation rate of the class, `grad_rate`, in percent (%).\n"
   ]
  },
  {
   "cell_type": "code",
   "execution_count": 3,
   "metadata": {
    "collapsed": false
   },
   "outputs": [
    {
     "name": "stdout",
     "output_type": "stream",
     "text": [
      "Total number of students: 395\n",
      "Number of features: 31\n",
      "Number of students who passed: 265\n",
      "Number of students who failed: 130\n",
      "Graduation rate of the class: 0.67%\n"
     ]
    }
   ],
   "source": [
    "# TODO: Calculate number of students\n",
    "n_students = student_data.shape[0]\n",
    "\n",
    "# TODO: Calculate number of features\n",
    "n_features = student_data.shape[1]\n",
    "\n",
    "# TODO: Calculate passing students\n",
    "n_passed = sum(student_data['passed'].str.lower()=='yes')\n",
    "\n",
    "# TODO: Calculate failing students\n",
    "n_failed = sum(student_data['passed'].str.lower()=='no')\n",
    "\n",
    "# TODO: Calculate graduation rate\n",
    "grad_rate = n_passed/n_students\n",
    "\n",
    "# Print the results\n",
    "print (\"Total number of students: {}\".format(n_students))\n",
    "print (\"Number of features: {}\".format(n_features))\n",
    "print (\"Number of students who passed: {}\".format(n_passed))\n",
    "print (\"Number of students who failed: {}\".format(n_failed))\n",
    "print (\"Graduation rate of the class: {:.2f}%\".format(grad_rate))"
   ]
  },
  {
   "cell_type": "markdown",
   "metadata": {},
   "source": [
    "## Preparing the Data\n",
    "In this section, we will prepare the data for modeling, training and testing.\n",
    "\n",
    "### Identify feature and target columns\n",
    "It is often the case that the data you obtain contains non-numeric features. This can be a problem, as most machine learning algorithms expect numeric data to perform computations with.\n",
    "\n",
    "Run the code cell below to separate the student data into feature and target columns to see if any features are non-numeric."
   ]
  },
  {
   "cell_type": "code",
   "execution_count": 4,
   "metadata": {
    "collapsed": false
   },
   "outputs": [
    {
     "name": "stdout",
     "output_type": "stream",
     "text": [
      "Feature columns:\n",
      "['school', 'sex', 'age', 'address', 'famsize', 'Pstatus', 'Medu', 'Fedu', 'Mjob', 'Fjob', 'reason', 'guardian', 'traveltime', 'studytime', 'failures', 'schoolsup', 'famsup', 'paid', 'activities', 'nursery', 'higher', 'internet', 'romantic', 'famrel', 'freetime', 'goout', 'Dalc', 'Walc', 'health', 'absences']\n",
      "\n",
      "Target column: passed\n",
      "\n",
      "Feature values:\n",
      "  school sex  age address famsize Pstatus  Medu  Fedu     Mjob      Fjob  \\\n",
      "0     GP   F   18       U     GT3       A     4     4  at_home   teacher   \n",
      "1     GP   F   17       U     GT3       T     1     1  at_home     other   \n",
      "2     GP   F   15       U     LE3       T     1     1  at_home     other   \n",
      "3     GP   F   15       U     GT3       T     4     2   health  services   \n",
      "4     GP   F   16       U     GT3       T     3     3    other     other   \n",
      "\n",
      "    ...    higher internet  romantic  famrel  freetime goout Dalc Walc health  \\\n",
      "0   ...       yes       no        no       4         3     4    1    1      3   \n",
      "1   ...       yes      yes        no       5         3     3    1    1      3   \n",
      "2   ...       yes      yes        no       4         3     2    2    3      3   \n",
      "3   ...       yes      yes       yes       3         2     2    1    1      5   \n",
      "4   ...       yes       no        no       4         3     2    1    2      5   \n",
      "\n",
      "  absences  \n",
      "0        6  \n",
      "1        4  \n",
      "2       10  \n",
      "3        2  \n",
      "4        4  \n",
      "\n",
      "[5 rows x 30 columns]\n"
     ]
    }
   ],
   "source": [
    "# Extract feature columns\n",
    "feature_cols = list(student_data.columns[:-1])\n",
    "\n",
    "# Extract target column 'passed'\n",
    "target_col = student_data.columns[-1] \n",
    "\n",
    "# Show the list of columns\n",
    "print (\"Feature columns:\\n{}\".format(feature_cols))\n",
    "print (\"\\nTarget column: {}\".format(target_col))\n",
    "\n",
    "# Separate the data into feature data and target data (X_all and y_all, respectively)\n",
    "X_all = student_data[feature_cols]\n",
    "y_all = student_data[target_col]\n",
    "\n",
    "# Show the feature information by printing the first five rows\n",
    "print (\"\\nFeature values:\")\n",
    "print (X_all.head())"
   ]
  },
  {
   "cell_type": "markdown",
   "metadata": {},
   "source": [
    "### Preprocess Feature Columns\n",
    "\n",
    "As you can see, there are several non-numeric columns that need to be converted! Many of them are simply `yes`/`no`, e.g. `internet`. These can be reasonably converted into `1`/`0` (binary) values.\n",
    "\n",
    "Other columns, like `Mjob` and `Fjob`, have more than two values, and are known as _categorical variables_. The recommended way to handle such a column is to create as many columns as possible values (e.g. `Fjob_teacher`, `Fjob_other`, `Fjob_services`, etc.), and assign a `1` to one of them and `0` to all others.\n",
    "\n",
    "These generated columns are sometimes called _dummy variables_, and we will use the [`pandas.get_dummies()`](http://pandas.pydata.org/pandas-docs/stable/generated/pandas.get_dummies.html?highlight=get_dummies#pandas.get_dummies) function to perform this transformation. Run the code cell below to perform the preprocessing routine discussed in this section."
   ]
  },
  {
   "cell_type": "code",
   "execution_count": 5,
   "metadata": {
    "collapsed": false
   },
   "outputs": [
    {
     "name": "stdout",
     "output_type": "stream",
     "text": [
      "Processed feature columns (48 total features):\n",
      "['school_GP', 'school_MS', 'sex_F', 'sex_M', 'age', 'address_R', 'address_U', 'famsize_GT3', 'famsize_LE3', 'Pstatus_A', 'Pstatus_T', 'Medu', 'Fedu', 'Mjob_at_home', 'Mjob_health', 'Mjob_other', 'Mjob_services', 'Mjob_teacher', 'Fjob_at_home', 'Fjob_health', 'Fjob_other', 'Fjob_services', 'Fjob_teacher', 'reason_course', 'reason_home', 'reason_other', 'reason_reputation', 'guardian_father', 'guardian_mother', 'guardian_other', 'traveltime', 'studytime', 'failures', 'schoolsup', 'famsup', 'paid', 'activities', 'nursery', 'higher', 'internet', 'romantic', 'famrel', 'freetime', 'goout', 'Dalc', 'Walc', 'health', 'absences']\n"
     ]
    }
   ],
   "source": [
    "def preprocess_features(X):\n",
    "    ''' Preprocesses the student data and converts non-numeric binary variables into\n",
    "        binary (0/1) variables. Converts categorical variables into dummy variables. '''\n",
    "    \n",
    "    # Initialize new output DataFrame\n",
    "    output = pd.DataFrame(index = X.index)\n",
    "\n",
    "    # Investigate each feature column for the data\n",
    "    for col, col_data in X.iteritems():\n",
    "        \n",
    "        # If data type is non-numeric, replace all yes/no values with 1/0\n",
    "        # To better distinguish between the binary variables and the categorical varuables \n",
    "        if col_data.dtype == object :\n",
    "            col_data = col_data.replace(['yes', 'no'], [1, 0])\n",
    "\n",
    "        # If data type is categorical, convert to dummy variables\n",
    "        if col_data.dtype == object :\n",
    "            # Example: 'school' => 'school_GP' and 'school_MS'\n",
    "            col_data = pd.get_dummies(col_data, prefix = col)  \n",
    "        \n",
    "        # Collect the revised columns\n",
    "        output = output.join(col_data)\n",
    "    \n",
    "    return output\n",
    "\n",
    "\n",
    "\n",
    "X_all = preprocess_features(X_all)\n",
    "print (\"Processed feature columns ({} total features):\\n{}\".format(len(X_all.columns), list(X_all.columns)))"
   ]
  },
  {
   "cell_type": "markdown",
   "metadata": {},
   "source": [
    "### Implementation: Training and Testing Data Split\n",
    "So far, we have converted all _categorical_ features into numeric values. For the next step, we split the data (both features and corresponding labels) into training and test sets. In the following code cell below, you will need to implement the following:\n",
    "- Randomly shuffle and split the data (`X_all`, `y_all`) into training and testing subsets.\n",
    "  - Use 300 training points (approximately 75%) and 95 testing points (approximately 25%).\n",
    "  - Set a `random_state` for the function(s) you use, if provided.\n",
    "  - Store the results in `X_train`, `X_test`, `y_train`, and `y_test`."
   ]
  },
  {
   "cell_type": "code",
   "execution_count": 6,
   "metadata": {
    "collapsed": false
   },
   "outputs": [
    {
     "name": "stdout",
     "output_type": "stream",
     "text": [
      "Training set has 300 samples.\n",
      "Testing set has 95 samples.\n"
     ]
    }
   ],
   "source": [
    "# TODO: Import any additional functionality you may need here\n",
    "import random\n",
    "\n",
    "# TODO: Set the number of training points\n",
    "num_train = 300\n",
    "\n",
    "# Set the number of testing points\n",
    "num_test = X_all.shape[0] - num_train\n",
    "\n",
    "# TODO: Shuffle and split the dataset into the number of training and testing points above\n",
    "random.seed(312)\n",
    "shuffled_index=list(range(0,X_all.shape[0])) #cannot do a=random.shuffle(a)\n",
    "random.shuffle(shuffled_index)\n",
    "\n",
    "X_train = X_all.iloc[shuffled_index[:num_train],]\n",
    "X_test =  X_all.iloc[shuffled_index[num_train:],]\n",
    "y_train = y_all.iloc[shuffled_index[:num_train]]\n",
    "y_test = y_all.iloc[shuffled_index[num_train:]]\n",
    "\n",
    "# Show the results of the split\n",
    "print (\"Training set has {} samples.\".format(X_train.shape[0]))\n",
    "print (\"Testing set has {} samples.\".format(X_test.shape[0]))"
   ]
  },
  {
   "cell_type": "markdown",
   "metadata": {},
   "source": [
    "## Training and Evaluating Models\n",
    "In this section, you will choose 3 supervised learning models that are appropriate for this problem and available in `scikit-learn`. You will first discuss the reasoning behind choosing these three models by considering what you know about the data and each model's strengths and weaknesses. You will then fit the model to varying sizes of training data (100 data points, 200 data points, and 300 data points) and measure the F<sub>1</sub> score. You will need to produce three tables (one for each model) that shows the training set size, training time, prediction time, F<sub>1</sub> score on the training set, and F<sub>1</sub> score on the testing set.\n",
    "\n",
    "**The following supervised learning models are currently available in** [`scikit-learn`](http://scikit-learn.org/stable/supervised_learning.html) **that you may choose from:**\n",
    "- Gaussian Naive Bayes (GaussianNB)\n",
    "- Decision Trees\n",
    "- Ensemble Methods (Bagging, AdaBoost, Random Forest, Gradient Boosting)\n",
    "- K-Nearest Neighbors (KNeighbors)\n",
    "- Stochastic Gradient Descent (SGDC)\n",
    "- Support Vector Machines (SVM)\n",
    "- Logistic Regression"
   ]
  },
  {
   "cell_type": "markdown",
   "metadata": {},
   "source": [
    "### Question 2 - Model Application\n",
    "*List three supervised learning models that are appropriate for this problem. For each model chosen*\n",
    "- Describe one real-world application in industry where the model can be applied. *(You may need to do a small bit of research for this — give references!)* \n",
    "- What are the strengths of the model; when does it perform well? \n",
    "- What are the weaknesses of the model; when does it perform poorly?\n",
    "- What makes this model a good candidate for the problem, given what you know about the data?"
   ]
  },
  {
   "cell_type": "markdown",
   "metadata": {},
   "source": [
    "**Answer: The 3 models I chose to use are Random Forest, SGDC and SVM.\n",
    "1. Random Forest\n",
    "    * Real word application: classify costumers when launching new business campaign \n",
    "    * Strengths: compare to decision tree, the advantage of random forest is that it belongs to the ensemble learning algorithm which may avoid overfitting\n",
    "    * Weaknesses: \n",
    "        * Because we need to build multiple tress, the running time will be slow\n",
    "        * For continuous features, need to first create some 'discrete' values to represent the continuous features, which may lose some information and also slow down the running time\n",
    "        * If we have a lot features and those features have a lot of discrete values, may still be overfitting because the single decision tree in the random forest may overfit. \n",
    "For this data set, the response variable is binary and the number of features are not very large and most of the features are categorical. So I think random forest will be suitable. \n",
    "2. Stochastic Gradient Descent (SGDC)\n",
    "    * Real word application: SGDC can applied to real word applications using linear regression, logistic regression, SVM, neural network and so on. One of the applications is picture identification using neural network. \n",
    "    * Strengths: it can efficiently find the local optimal estimates. Also, the computation time is fast because it can use parallel computation. \n",
    "    * Weakness: may only find the local optimal estimates instead of the global optimal estimates\n",
    "For this data set, we can use the SGDC algorithm to fit a linear SVM or a logistic regression model.\n",
    "3. SVM\n",
    "    * Real word application: Protein Fold and Remote Homology Detection\n",
    "    * Strengths: \n",
    "        * Can use the kernel trick to represent the arbitrary similarity\n",
    "        * Use regularization to avoid overfit \n",
    "    * Weakness: choosing a complexed kernel may still introduce overfitting\n",
    "I cannot think of any reason indicating SVM would not be suitable for this data set. \n",
    "                  \n",
    "                  \n"
   ]
  },
  {
   "cell_type": "markdown",
   "metadata": {},
   "source": [
    "### Setup\n",
    "Run the code cell below to initialize three helper functions which you can use for training and testing the three supervised learning models you've chosen above. The functions are as follows:\n",
    "- `train_classifier` - takes as input a classifier and training data and fits the classifier to the data.\n",
    "- `predict_labels` - takes as input a fit classifier, features, and a target labeling and makes predictions using the F<sub>1</sub> score.\n",
    "- `train_predict` - takes as input a classifier, and the training and testing data, and performs `train_clasifier` and `predict_labels`.\n",
    " - This function will report the F<sub>1</sub> score for both the training and testing data separately."
   ]
  },
  {
   "cell_type": "code",
   "execution_count": 7,
   "metadata": {
    "collapsed": false
   },
   "outputs": [],
   "source": [
    "def train_classifier(clf, X_train, y_train):\n",
    "    ''' Fits a classifier to the training data. '''\n",
    "    \n",
    "    # Start the clock, train the classifier, then stop the clock\n",
    "    start = time()\n",
    "    clf.fit(X_train, y_train)\n",
    "    end = time()\n",
    "    \n",
    "    # Print the results\n",
    "    print (\"Trained model in {:.4f} seconds\".format(end - start))\n",
    "\n",
    "    \n",
    "def predict_labels(clf, features, target):\n",
    "    ''' Makes predictions using a fit classifier based on F1 score. '''\n",
    "    \n",
    "    # Start the clock, make predictions, then stop the clock\n",
    "    start = time()\n",
    "    y_pred = clf.predict(features)\n",
    "    end = time()\n",
    "    \n",
    "    # Print and return results\n",
    "    print (\"Made predictions in {:.4f} seconds.\".format(end - start))\n",
    "    return f1_score(target.values, y_pred, pos_label='yes')\n",
    "\n",
    "\n",
    "def train_predict(clf, X_train, y_train, X_test, y_test):\n",
    "    ''' Train and predict using a classifer based on F1 score. '''\n",
    "    \n",
    "    # Indicate the classifier and the training set size\n",
    "    print (\"Training a {} using a training set size of {}. . .\".format(clf.__class__.__name__, len(X_train)))\n",
    "    \n",
    "    # Train the classifier\n",
    "    train_classifier(clf, X_train, y_train)\n",
    "    \n",
    "    # Print the results of prediction for both training and testing\n",
    "    print (\"F1 score for training set: {:.4f}.\".format(predict_labels(clf, X_train, y_train)))\n",
    "    print (\"F1 score for test set: {:.4f}.\".format(predict_labels(clf, X_test, y_test)))"
   ]
  },
  {
   "cell_type": "markdown",
   "metadata": {},
   "source": [
    "### Implementation: Model Performance Metrics\n",
    "With the predefined functions above, you will now import the three supervised learning models of your choice and run the `train_predict` function for each one. Remember that you will need to train and predict on each classifier for three different training set sizes: 100, 200, and 300. Hence, you should expect to have 9 different outputs below — 3 for each model using the varying training set sizes. In the following code cell, you will need to implement the following:\n",
    "- Import the three supervised learning models you've discussed in the previous section.\n",
    "- Initialize the three models and store them in `clf_A`, `clf_B`, and `clf_C`.\n",
    " - Use a `random_state` for each model you use, if provided.\n",
    " - **Note:** Use the default settings for each model — you will tune one specific model in a later section.\n",
    "- Create the different training set sizes to be used to train each model.\n",
    " - *Do not reshuffle and resplit the data! The new training points should be drawn from `X_train` and `y_train`.*\n",
    "- Fit each model with each training set size and make predictions on the test set (9 in total).  \n",
    "**Note:** Three tables are provided after the following code cell which can be used to store your results."
   ]
  },
  {
   "cell_type": "code",
   "execution_count": 8,
   "metadata": {
    "collapsed": false
   },
   "outputs": [
    {
     "name": "stdout",
     "output_type": "stream",
     "text": [
      "Training a RandomForestClassifier using a training set size of 100. . .\n",
      "Trained model in 0.0100 seconds\n",
      "Made predictions in 0.0010 seconds.\n",
      "F1 score for training set: 1.0000.\n",
      "Made predictions in 0.0010 seconds.\n",
      "F1 score for test set: 0.7429.\n",
      "Training a RandomForestClassifier using a training set size of 200. . .\n",
      "Trained model in 0.0090 seconds\n",
      "Made predictions in 0.0010 seconds.\n",
      "F1 score for training set: 0.9963.\n",
      "Made predictions in 0.0010 seconds.\n",
      "F1 score for test set: 0.7518.\n",
      "Training a RandomForestClassifier using a training set size of 300. . .\n",
      "Trained model in 0.0126 seconds\n",
      "Made predictions in 0.0010 seconds.\n",
      "F1 score for training set: 0.9923.\n",
      "Made predictions in 0.0005 seconds.\n",
      "F1 score for test set: 0.7313.\n",
      "\n",
      "\n",
      "Training a SGDClassifier using a training set size of 100. . .\n",
      "Trained model in 0.0005 seconds\n",
      "Made predictions in 0.0213 seconds.\n",
      "F1 score for training set: 0.8609.\n",
      "Made predictions in 0.0000 seconds.\n",
      "F1 score for test set: 0.7867.\n",
      "Training a SGDClassifier using a training set size of 200. . .\n",
      "Trained model in 0.0010 seconds\n",
      "Made predictions in 0.0000 seconds.\n",
      "F1 score for training set: 0.8072.\n",
      "Made predictions in 0.0000 seconds.\n",
      "F1 score for test set: 0.8415.\n",
      "Training a SGDClassifier using a training set size of 300. . .\n",
      "Trained model in 0.0010 seconds\n",
      "Made predictions in 0.0000 seconds.\n",
      "F1 score for training set: 0.7950.\n",
      "Made predictions in 0.0000 seconds.\n",
      "F1 score for test set: 0.7612.\n",
      "\n",
      "\n",
      "Training a SVC using a training set size of 100. . .\n",
      "Trained model in 0.0020 seconds\n",
      "Made predictions in 0.0010 seconds.\n",
      "F1 score for training set: 0.9007.\n",
      "Made predictions in 0.0010 seconds.\n",
      "F1 score for test set: 0.8280.\n",
      "Training a SVC using a training set size of 200. . .\n",
      "Trained model in 0.0050 seconds\n",
      "Made predictions in 0.0030 seconds.\n",
      "F1 score for training set: 0.8816.\n",
      "Made predictions in 0.0020 seconds.\n",
      "F1 score for test set: 0.8101.\n",
      "Training a SVC using a training set size of 300. . .\n",
      "Trained model in 0.0110 seconds\n",
      "Made predictions in 0.0080 seconds.\n",
      "F1 score for training set: 0.8711.\n",
      "Made predictions in 0.0040 seconds.\n",
      "F1 score for test set: 0.7871.\n",
      "\n",
      "\n"
     ]
    }
   ],
   "source": [
    "# TODO: Import the three supervised learning models from sklearn\n",
    "# from sklearn import model_A\n",
    "from sklearn.ensemble import RandomForestClassifier\n",
    "\n",
    "# from sklearn import model_B\n",
    "from sklearn.linear_model import SGDClassifier\n",
    "\n",
    "# from skearln import model_C\n",
    "from sklearn.svm import SVC\n",
    "\n",
    "\n",
    "\n",
    "\n",
    "\n",
    "# TODO: Initialize the three models\n",
    "clf_A = RandomForestClassifier(random_state=312)\n",
    "clf_B = SGDClassifier(random_state=312)\n",
    "clf_C = SVC(random_state=312)\n",
    "\n",
    "\n",
    "\n",
    "# TODO: Set up the training set sizes\n",
    "X_train_100 = X_train[:100]\n",
    "y_train_100 = y_train[:100]\n",
    "\n",
    "X_train_200 = X_train[:200]\n",
    "y_train_200 = y_train[:200]\n",
    "\n",
    "X_train_300 = X_train[:300]\n",
    "y_train_300 = y_train[:300]       \n",
    "        \n",
    "\n",
    "# TODO: Execute the 'train_predict' function for each classifier and each training set size\n",
    "# train_predict(clf, X_train, y_train, X_test, y_test)\n",
    "#clfs=[clf_A, clf_B, clf_C]\n",
    "#for i in range(0, len(clfs)):\n",
    "train_predict(clf_A,X_train_100, y_train_100, X_test, y_test)\n",
    "train_predict(clf_A,X_train_200, y_train_200, X_test, y_test)\n",
    "train_predict(clf_A,X_train_300, y_train_300, X_test, y_test)\n",
    "print('\\n')\n",
    "\n",
    "\n",
    "train_predict(clf_B,X_train_100, y_train_100, X_test, y_test)\n",
    "train_predict(clf_B,X_train_200, y_train_200, X_test, y_test)\n",
    "train_predict(clf_B,X_train_300, y_train_300, X_test, y_test)\n",
    "print('\\n')\n",
    "\n",
    "train_predict(clf_C,X_train_100, y_train_100, X_test, y_test)\n",
    "train_predict(clf_C,X_train_200, y_train_200, X_test, y_test)\n",
    "train_predict(clf_C,X_train_300, y_train_300, X_test, y_test)\n",
    "print('\\n')\n",
    "\n"
   ]
  },
  {
   "cell_type": "code",
   "execution_count": 9,
   "metadata": {
    "collapsed": false
   },
   "outputs": [
    {
     "name": "stdout",
     "output_type": "stream",
     "text": [
      "Training a RandomForestClassifier using a training set size of 100. . .\n",
      "Trained model in 0.0130 seconds\n",
      "Made predictions in 0.0020 seconds.\n",
      "F1 score for training set: 1.0000.\n",
      "Made predictions in 0.0020 seconds.\n",
      "F1 score for test set: 0.7429.\n",
      "Made predictions in 0.0020 seconds.\n",
      "Made predictions in 0.0040 seconds.\n",
      "Training a RandomForestClassifier using a training set size of 200. . .\n",
      "Trained model in 0.0140 seconds\n",
      "Made predictions in 0.0020 seconds.\n",
      "F1 score for training set: 0.9963.\n",
      "Made predictions in 0.0020 seconds.\n",
      "F1 score for test set: 0.7518.\n",
      "Made predictions in 0.0030 seconds.\n",
      "Made predictions in 0.0060 seconds.\n",
      "Training a RandomForestClassifier using a training set size of 300. . .\n",
      "Trained model in 0.0236 seconds\n",
      "Made predictions in 0.0010 seconds.\n",
      "F1 score for training set: 0.9923.\n",
      "Made predictions in 0.0010 seconds.\n",
      "F1 score for test set: 0.7313.\n",
      "Made predictions in 0.0020 seconds.\n",
      "Made predictions in 0.0010 seconds.\n"
     ]
    },
    {
     "data": {
      "image/png": "[encoded data removed]",
      "text/plain": [
       "<matplotlib.figure.Figure at 0x29d8d5fcda0>"
      ]
     },
     "metadata": {},
     "output_type": "display_data"
    },
    {
     "name": "stdout",
     "output_type": "stream",
     "text": [
      "Training a SGDClassifier using a training set size of 100. . .\n",
      "Trained model in 0.0015 seconds\n",
      "Made predictions in 0.0000 seconds.\n",
      "F1 score for training set: 0.8609.\n",
      "Made predictions in 0.0005 seconds.\n",
      "F1 score for test set: 0.7867.\n",
      "Made predictions in 0.0000 seconds.\n",
      "Made predictions in 0.0000 seconds.\n",
      "Training a SGDClassifier using a training set size of 200. . .\n",
      "Trained model in 0.0010 seconds\n",
      "Made predictions in 0.0000 seconds.\n",
      "F1 score for training set: 0.8072.\n",
      "Made predictions in 0.0000 seconds.\n",
      "F1 score for test set: 0.8415.\n",
      "Made predictions in 0.0000 seconds.\n",
      "Made predictions in 0.0000 seconds.\n",
      "Training a SGDClassifier using a training set size of 300. . .\n",
      "Trained model in 0.0010 seconds\n",
      "Made predictions in 0.0010 seconds.\n",
      "F1 score for training set: 0.7950.\n",
      "Made predictions in 0.0010 seconds.\n",
      "F1 score for test set: 0.7612.\n",
      "Made predictions in 0.0000 seconds.\n",
      "Made predictions in 0.0000 seconds.\n"
     ]
    },
    {
     "data": {
      "image/png": "[encoded data removed]",
      "text/plain": [
       "<matplotlib.figure.Figure at 0x29d8d5fcf60>"
      ]
     },
     "metadata": {},
     "output_type": "display_data"
    },
    {
     "name": "stdout",
     "output_type": "stream",
     "text": [
      "Training a SVC using a training set size of 100. . .\n",
      "Trained model in 0.0010 seconds\n",
      "Made predictions in 0.0010 seconds.\n",
      "F1 score for training set: 0.9007.\n",
      "Made predictions in 0.0010 seconds.\n",
      "F1 score for test set: 0.8280.\n",
      "Made predictions in 0.0010 seconds.\n",
      "Made predictions in 0.0010 seconds.\n",
      "Training a SVC using a training set size of 200. . .\n",
      "Trained model in 0.0050 seconds\n",
      "Made predictions in 0.0030 seconds.\n",
      "F1 score for training set: 0.8816.\n",
      "Made predictions in 0.0020 seconds.\n",
      "F1 score for test set: 0.8101.\n",
      "Made predictions in 0.0030 seconds.\n",
      "Made predictions in 0.0020 seconds.\n",
      "Training a SVC using a training set size of 300. . .\n",
      "Trained model in 0.0100 seconds\n",
      "Made predictions in 0.0080 seconds.\n",
      "F1 score for training set: 0.8711.\n",
      "Made predictions in 0.0050 seconds.\n",
      "F1 score for test set: 0.7871.\n",
      "Made predictions in 0.0080 seconds.\n",
      "Made predictions in 0.0040 seconds.\n"
     ]
    },
    {
     "data": {
      "image/png": "[encoded data removed]",
      "text/plain": [
       "<matplotlib.figure.Figure at 0x29d8c319a90>"
      ]
     },
     "metadata": {},
     "output_type": "display_data"
    }
   ],
   "source": [
    "# use plots to visualiza the results\n",
    "def model_fit(clf, X_train, y_train, X_test, y_test):\n",
    "    ''' Train the model using different size of the training samples. '''\n",
    "    score_train=[]\n",
    "    score_test=[]\n",
    "    for i in range(1,4):\n",
    "        X_train_temp=X_train[:i*100]\n",
    "        y_train_temp=y_train[:i*100]\n",
    "        train_predict(clf,X_train_temp, y_train_temp, X_test, y_test)\n",
    "        score_train.append(predict_labels(clf, X_train_temp, y_train_temp))\n",
    "        score_test.append(predict_labels(clf, X_test, y_test))\n",
    "    \n",
    "    \n",
    "    a,=pl.plot([100,200,300], score_train, 'r-', label='training set')\n",
    "    b,= pl.plot([100,200,300], score_test, 'b-', label='testng set')  \n",
    "    pl.ylim([0.5,1.1])\n",
    "    pl.title(\"F1 Score of {}\".format((clf.__class__.__name__)))\n",
    "    pl.legend(handles=[a, b])\n",
    "    pl.show()\n",
    "    \n",
    "model_fit(clf_A, X_train, y_train, X_test, y_test)\n",
    "model_fit(clf_B, X_train, y_train, X_test, y_test)\n",
    "model_fit(clf_C, X_train, y_train, X_test, y_test)\n",
    "\n",
    "\n",
    "    \n"
   ]
  },
  {
   "cell_type": "markdown",
   "metadata": {},
   "source": [
    "### Tabular Results\n",
    "Edit the cell below to see how a table can be designed in [Markdown](https://github.com/adam-p/markdown-here/wiki/Markdown-Cheatsheet#tables). You can record your results from above in the tables provided."
   ]
  },
  {
   "cell_type": "markdown",
   "metadata": {},
   "source": [
    "** Classifer 1 - RandomForestClassifier **  \n",
    "\n",
    "| Training Set Size | Training Time | Prediction Time (test) | F1 Score (train) | F1 Score (test) |\n",
    "| :---------------: | :---------------------: | :--------------------: | :--------------: | :-------------: | \n",
    "| 100               |         0.0100                |      0.0030                  |       1.0000           |    0.7429             |\n",
    "| 200               |        0.0196          |      0.0015                  |      0.9963            |         0.7518        |\n",
    "| 300               |    0.0311                      |      0.0040                  |     0.9923             |    0.7313      |\n",
    "\n",
    "** Classifer 2 - SGDClassifier**  \n",
    "\n",
    "| Training Set Size | Training Time | Prediction Time (test) | F1 Score (train) | F1 Score (test) |\n",
    "| :---------------: | :---------------------: | :--------------------: | :--------------: | :-------------: |\n",
    "| 100               |     0.0010                     |     0.0010                    |        0.8609          |     0.7867            |\n",
    "| 200               |     0.0010              |     0.0000                    |       0.8072           |        0.8415         |\n",
    "| 300               |        0.0010                 |     0.0000                   |        0.7950          |     0.7612     |\n",
    "\n",
    "** Classifer 3 - SVC**  \n",
    "\n",
    "| Training Set Size | Training Time | Prediction Time (test) | F1 Score (train) | F1 Score (test) |\n",
    "| :---------------: | :---------------------: | :--------------------: | :--------------: | :-------------: |\n",
    "| 100               |      0.0015                   |       0.0010                 |      0.9007            |       0.8280          |\n",
    "| 200               |       0.0060                   |        0.0020                 |         0.8816         |     0.8101            |\n",
    "| 300               |        0.0140                  |        0.0050                  |        0.8711          |      0.7871           |"
   ]
  },
  {
   "cell_type": "markdown",
   "metadata": {},
   "source": [
    "## Choosing the Best Model\n",
    "In this final section, you will choose from the three supervised learning models the *best* model to use on the student data. You will then perform a grid search optimization for the model over the entire training set (`X_train` and `y_train`) by tuning at least one parameter to improve upon the untuned model's F<sub>1</sub> score. "
   ]
  },
  {
   "cell_type": "markdown",
   "metadata": {},
   "source": [
    "### Question 3 - Choosing the Best Model\n",
    "*Based on the experiments you performed earlier, in one to two paragraphs, explain to the board of supervisors what single model you chose as the best model. Which model is generally the most appropriate based on the available data, limited resources, cost, and performance?*"
   ]
  },
  {
   "cell_type": "markdown",
   "metadata": {},
   "source": [
    "**Answer: ** In terms of the computational time, generally speaking, all 3 models were very fast. Stochastic Gradient Descent is the fastest algorithm and random forest is the slowest.  \n",
    "For model performance, random forest seems to have serious over-fitting. Although the f1 scores for the training sets are very high, there is a big jump of f1 score from training set to testing set. I learned that ensemble learning tends to avoid overfitting by finding a weak learner in each step. However, the random forest algorithm still has obvious overfitting issue here, which may be because that the decision trees in the forest are very complexed and they suffer from over-fitting issue. Adjusting some of the parameter settings, for example, setting a the max_depth or increasing the min_samples_split to force simpler tree in the forest, may solve the overfitting issue. Also, for the default setting, the forest only contains 10 trees, so each tree plays an important role in the prediction. Below I tried to set the max_depth=5, although the f1 scores of the training sets decreases, the f1 score of the testing sets increased and the overfitting issue seemed to be less serious.  \n",
    "\n",
    "SGDClassifier generates a fairly good prediction with no obvious overfitting. When the training set size equals to 200, the testing f1 score even got to 0.84. However, one interesting pattern is that when adding more samples to the training set (from 200 to 300), both the f1 score for the training set and the testing set droped.\n",
    "\n",
    "Support Vector Machine also worked pretty well with f1 scores of the testing sets at around 0.80. However, it's a bit surprising that adding more samples to the training set also seems to do no help. One possible reason for this surprising pattern is that some of the parameters were not set at the appropriate value.\n",
    "\n",
    "Although SGDClassifier performed a little worse than Support Vector Machine, I chose to tune the parameters of SGDClassifier because it once achieved the highest f1 score of 0.84 and it is faster. \n",
    "\n",
    "\n"
   ]
  },
  {
   "cell_type": "code",
   "execution_count": 11,
   "metadata": {
    "collapsed": false
   },
   "outputs": [
    {
     "name": "stdout",
     "output_type": "stream",
     "text": [
      "Training a RandomForestClassifier using a training set size of 100. . .\n",
      "Trained model in 0.0110 seconds\n",
      "Made predictions in 0.0010 seconds.\n",
      "F1 score for training set: 0.9710.\n",
      "Made predictions in 0.0010 seconds.\n",
      "F1 score for test set: 0.7974.\n",
      "Training a RandomForestClassifier using a training set size of 200. . .\n",
      "Trained model in 0.0150 seconds\n",
      "Made predictions in 0.0020 seconds.\n",
      "F1 score for training set: 0.8933.\n",
      "Made predictions in 0.0010 seconds.\n",
      "F1 score for test set: 0.8158.\n",
      "Training a RandomForestClassifier using a training set size of 300. . .\n",
      "Trained model in 0.0170 seconds\n",
      "Made predictions in 0.0030 seconds.\n",
      "F1 score for training set: 0.8578.\n",
      "Made predictions in 0.0020 seconds.\n",
      "F1 score for test set: 0.7895.\n",
      "\n",
      "\n"
     ]
    }
   ],
   "source": [
    "clf_rf=RandomForestClassifier(max_depth=5, random_state=312)\n",
    "train_predict(clf_rf,X_train_100, y_train_100, X_test, y_test)\n",
    "train_predict(clf_rf,X_train_200, y_train_200, X_test, y_test)\n",
    "train_predict(clf_rf,X_train_300, y_train_300, X_test, y_test)\n",
    "print('\\n')\n"
   ]
  },
  {
   "cell_type": "markdown",
   "metadata": {},
   "source": [
    "### Question 4 - Model in Layman's Terms\n",
    "*In one to two paragraphs, explain to the board of directors in layman's terms how the final model chosen is supposed to work. Be sure that you are describing the major qualities of the model, such as how the model is trained and how the model makes a prediction. Avoid using advanced mathematical or technical jargon, such as describing equations or discussing the algorithm implementation.*"
   ]
  },
  {
   "cell_type": "markdown",
   "metadata": {},
   "source": [
    "**Answer: ** The goal of the stochastic gradient descent algorithm is to estimate parameters in order to minimize the loss function. The loss function is a way to measure the discrepancy between the predicted labels (or values) and the true labels. The larger the discrepancy is, the larger the value of the loss function is. Gradient descent is one of the algorithms which minimizes the loss function by finding the appropriate estimates. Since it's difficult to get the minimum all at one step, we do it iteratively by taking baby steps along the gradient (deepest direction of the function) in each iteration. So, eventually, we will arrive at the local minimal point.  \n",
    "Stochastic gradient descent is a special kind of gradient descent. For each iteration, instead of using all the examples to build the loss function and update the estimates, it divides the examples into small batches (or even 1 sample per batch). Then, in each iteration, it only takes the small batch into account which will make the algorithm more efficient because you do not need to load and compute all data every time, and parallel computations can be conducted.  \n",
    "Therefore, by minimizing the loss function, we will get a prediction model which generates predictions close the true values.\n"
   ]
  },
  {
   "cell_type": "markdown",
   "metadata": {},
   "source": [
    "### Implementation: Model Tuning\n",
    "Fine tune the chosen model. Use grid search (`GridSearchCV`) with at least one important parameter tuned with at least 3 different values. You will need to use the entire training set for this. In the code cell below, you will need to implement the following:\n",
    "- Import [`sklearn.grid_search.gridSearchCV`](http://scikit-learn.org/stable/modules/generated/sklearn.grid_search.GridSearchCV.html) and [`sklearn.metrics.make_scorer`](http://scikit-learn.org/stable/modules/generated/sklearn.metrics.make_scorer.html).\n",
    "- Create a dictionary of parameters you wish to tune for the chosen model.\n",
    " - Example: `parameters = {'parameter' : [list of values]}`.\n",
    "- Initialize the classifier you've chosen and store it in `clf`.\n",
    "- Create the F<sub>1</sub> scoring function using `make_scorer` and store it in `f1_scorer`.\n",
    " - Set the `pos_label` parameter to the correct value!\n",
    "- Perform grid search on the classifier `clf` using `f1_scorer` as the scoring method, and store it in `grid_obj`.\n",
    "- Fit the grid search object to the training data (`X_train`, `y_train`), and store it in `grid_obj`."
   ]
  },
  {
   "cell_type": "code",
   "execution_count": 12,
   "metadata": {
    "collapsed": false,
    "scrolled": true
   },
   "outputs": [
    {
     "name": "stderr",
     "output_type": "stream",
     "text": [
      "C:\\Users\\Anqi\\Anaconda3\\lib\\site-packages\\sklearn\\metrics\\classification.py:1074: UndefinedMetricWarning: F-score is ill-defined and being set to 0.0 due to no predicted samples.\n",
      "  'precision', 'predicted', average, warn_for)\n",
      "C:\\Users\\Anqi\\Anaconda3\\lib\\site-packages\\sklearn\\metrics\\classification.py:1074: UndefinedMetricWarning: F-score is ill-defined and being set to 0.0 due to no predicted samples.\n",
      "  'precision', 'predicted', average, warn_for)\n",
      "C:\\Users\\Anqi\\Anaconda3\\lib\\site-packages\\sklearn\\metrics\\classification.py:1074: UndefinedMetricWarning: F-score is ill-defined and being set to 0.0 due to no predicted samples.\n",
      "  'precision', 'predicted', average, warn_for)\n",
      "C:\\Users\\Anqi\\Anaconda3\\lib\\site-packages\\sklearn\\metrics\\classification.py:1074: UndefinedMetricWarning: F-score is ill-defined and being set to 0.0 due to no predicted samples.\n",
      "  'precision', 'predicted', average, warn_for)\n",
      "C:\\Users\\Anqi\\Anaconda3\\lib\\site-packages\\sklearn\\metrics\\classification.py:1074: UndefinedMetricWarning: F-score is ill-defined and being set to 0.0 due to no predicted samples.\n",
      "  'precision', 'predicted', average, warn_for)\n",
      "C:\\Users\\Anqi\\Anaconda3\\lib\\site-packages\\sklearn\\metrics\\classification.py:1074: UndefinedMetricWarning: F-score is ill-defined and being set to 0.0 due to no predicted samples.\n",
      "  'precision', 'predicted', average, warn_for)\n"
     ]
    },
    {
     "name": "stdout",
     "output_type": "stream",
     "text": [
      "SGDClassifier(alpha=0.005, average=False, class_weight=None, epsilon=0.1,\n",
      "       eta0=0.0, fit_intercept=True, l1_ratio=0.15,\n",
      "       learning_rate='optimal', loss='modified_huber', n_iter=20, n_jobs=1,\n",
      "       penalty='l2', power_t=0.5, random_state=312, shuffle=True,\n",
      "       verbose=0, warm_start=False)\n",
      "Made predictions in 0.0005 seconds.\n",
      "Tuned model has a training F1 score of 0.6278.\n",
      "Made predictions in 0.0005 seconds.\n",
      "Tuned model has a testing F1 score of 0.6727.\n"
     ]
    }
   ],
   "source": [
    "# TODO: Import 'GridSearchCV' and 'make_scorer'\n",
    "from sklearn.grid_search import GridSearchCV \n",
    "from sklearn.metrics import make_scorer\n",
    "\n",
    "# TODO: Create the parameters list you wish to tune\n",
    "parameters = {'loss' : ['hinge', 'log', 'modified_huber'],\n",
    "              'alpha' : [0.0001, 0.001, 0.005, 0.01],\n",
    "              'n_iter' : [5, 20, 50, 100]\n",
    "             }\n",
    "\n",
    "# TODO: Initialize the classifier\n",
    "clf = SGDClassifier(random_state=312)\n",
    "\n",
    "# TODO: Make an f1 scoring function using 'make_scorer' \n",
    "f1_scorer = make_scorer(f1_score, pos_label='yes')\n",
    "\n",
    "# TODO: Perform grid search on the classifier using the f1_scorer as the scoring method\n",
    "grid_obj = GridSearchCV(clf, param_grid=parameters, scoring=f1_scorer)\n",
    "\n",
    "# TODO: Fit the grid search object to the training data and find the optimal parameters\n",
    "grid_obj.fit(X_train, y_train)\n",
    "\n",
    "# Get the estimator\n",
    "clf = grid_obj.best_estimator_\n",
    "print(clf)\n",
    "\n",
    "# Report the final F1 score for training and testing after parameter tuning\n",
    "print (\"Tuned model has a training F1 score of {:.4f}.\".format(predict_labels(clf, X_train, y_train)))\n",
    "print (\"Tuned model has a testing F1 score of {:.4f}.\".format(predict_labels(clf, X_test, y_test)))"
   ]
  },
  {
   "cell_type": "markdown",
   "metadata": {},
   "source": [
    "After tuning the parameters of the SGDClassifier, I got a model with much lower F1 scores for both training set and testing set, which is very surprising. I also got many warning messages, which suggests that some models did not predict a single true positive predictions. To further investigate, I tried to use training size of 100 and 200."
   ]
  },
  {
   "cell_type": "code",
   "execution_count": 13,
   "metadata": {
    "collapsed": false
   },
   "outputs": [
    {
     "name": "stdout",
     "output_type": "stream",
     "text": [
      "Training size of 100\n",
      "SGDClassifier(alpha=0.001, average=False, class_weight=None, epsilon=0.1,\n",
      "       eta0=0.0, fit_intercept=True, l1_ratio=0.15,\n",
      "       learning_rate='optimal', loss='log', n_iter=20, n_jobs=1,\n",
      "       penalty='l2', power_t=0.5, random_state=312, shuffle=True,\n",
      "       verbose=0, warm_start=False)\n",
      "Made predictions in 0.0000 seconds.\n",
      "Tuned model has a training F1 score of 0.8831.\n",
      "Made predictions in 0.0000 seconds.\n",
      "Tuned model has a testing F1 score of 0.8000.\n",
      "Training size of 200\n",
      "SGDClassifier(alpha=0.005, average=False, class_weight=None, epsilon=0.1,\n",
      "       eta0=0.0, fit_intercept=True, l1_ratio=0.15,\n",
      "       learning_rate='optimal', loss='log', n_iter=5, n_jobs=1,\n",
      "       penalty='l2', power_t=0.5, random_state=312, shuffle=True,\n",
      "       verbose=0, warm_start=False)\n",
      "Made predictions in 0.0000 seconds.\n",
      "Tuned model has a training F1 score of 0.8356.\n",
      "Made predictions in 0.0000 seconds.\n",
      "Tuned model has a testing F1 score of 0.8027.\n"
     ]
    },
    {
     "name": "stderr",
     "output_type": "stream",
     "text": [
      "C:\\Users\\Anqi\\Anaconda3\\lib\\site-packages\\sklearn\\metrics\\classification.py:1074: UndefinedMetricWarning: F-score is ill-defined and being set to 0.0 due to no predicted samples.\n",
      "  'precision', 'predicted', average, warn_for)\n"
     ]
    }
   ],
   "source": [
    "print (\"Training size of 100\")\n",
    "grid_obj.fit(X_train_100, y_train_100)\n",
    "\n",
    "# Get the estimator\n",
    "clf = grid_obj.best_estimator_\n",
    "print(clf)\n",
    "\n",
    "# Report the final F1 score for training and testing after parameter tuning\n",
    "\n",
    "print (\"Tuned model has a training F1 score of {:.4f}.\".format(predict_labels(clf, X_train_100, y_train_100)))\n",
    "print (\"Tuned model has a testing F1 score of {:.4f}.\".format(predict_labels(clf, X_test, y_test)))\n",
    "\n",
    "print (\"Training size of 200\")\n",
    "grid_obj.fit(X_train_200, y_train_200)\n",
    "\n",
    "# Get the estimator\n",
    "clf = grid_obj.best_estimator_\n",
    "print(clf)\n",
    "\n",
    "# Report the final F1 score for training and testing after parameter tuning\n",
    "\n",
    "print (\"Tuned model has a training F1 score of {:.4f}.\".format(predict_labels(clf, X_train_200, y_train_200)))\n",
    "print (\"Tuned model has a testing F1 score of {:.4f}.\".format(predict_labels(clf, X_test, y_test)))"
   ]
  },
  {
   "cell_type": "markdown",
   "metadata": {},
   "source": [
    "The models using the training size of 100 and 200 seem to work fine. I wonder why the complete training set did work well. I tried to see the distributions of the response variable for the different training sets and the distributions seem to be similar. It seems that the SGD algorithm is not suitable for this data set. It keeps generating predictors with no true positive predictors at all but I am not sure about the reason. "
   ]
  },
  {
   "cell_type": "code",
   "execution_count": 16,
   "metadata": {
    "collapsed": false,
    "scrolled": true
   },
   "outputs": [
    {
     "name": "stdout",
     "output_type": "stream",
     "text": [
      "size:100, 'yes': 68 (0.68)\n",
      "size:200, 'yes': 134 (0.67)\n",
      "size:300, 'yes': 196 (0.6533333333333333)\n"
     ]
    }
   ],
   "source": [
    "print(\"size:100, 'yes': {} ({})\".format(list(y_train_100).count('yes'), list(y_train_100).count('yes')/100))\n",
    "print(\"size:200, 'yes': {} ({})\".format(list(y_train_200).count('yes'), list(y_train_200).count('yes')/200))\n",
    "print(\"size:300, 'yes': {} ({})\".format(list(y_train_300).count('yes'), list(y_train_300).count('yes')/300))\n"
   ]
  },
  {
   "cell_type": "markdown",
   "metadata": {},
   "source": [
    "Since the SGD model did not work quite well. Below I also tried to tune the parameters for the SVM model."
   ]
  },
  {
   "cell_type": "code",
   "execution_count": 17,
   "metadata": {
    "collapsed": false
   },
   "outputs": [
    {
     "name": "stdout",
     "output_type": "stream",
     "text": [
      "SVC(C=0.5, cache_size=200, class_weight=None, coef0=0.0,\n",
      "  decision_function_shape=None, degree=3, gamma='auto', kernel='rbf',\n",
      "  max_iter=-1, probability=False, random_state=312, shrinking=True,\n",
      "  tol=0.001, verbose=False)\n",
      "Made predictions in 0.0050 seconds.\n",
      "Tuned model has a training F1 score of 0.8323.\n",
      "Made predictions in 0.0020 seconds.\n",
      "Tuned model has a testing F1 score of 0.8250.\n"
     ]
    }
   ],
   "source": [
    "\n",
    "# TODO: Create the parameters list you wish to tune\n",
    "parameters_svc = {'C' : [0.1, 0.5, 1],\n",
    "              'kernel' : ['poly', 'rbf', 'sigmoid'],\n",
    "             }\n",
    "\n",
    "# TODO: Initialize the classifier\n",
    "clf_svc = SVC(random_state=312)\n",
    "\n",
    "\n",
    "# TODO: Perform grid search on the classifier using the f1_scorer as the scoring method\n",
    "grid_obj_svc = GridSearchCV(clf_svc, param_grid=parameters_svc, scoring=f1_scorer)\n",
    "\n",
    "# TODO: Fit the grid search object to the training data and find the optimal parameters\n",
    "grid_obj_svc.fit(X_train, y_train)\n",
    "\n",
    "# Get the estimator\n",
    "clf_svc = grid_obj_svc.best_estimator_\n",
    "print (clf_svc)\n",
    "\n",
    "\n",
    "# Report the final F1 score for training and testing after parameter tuning\n",
    "print (\"Tuned model has a training F1 score of {:.4f}.\".format(predict_labels(clf_svc, X_train, y_train)))\n",
    "print (\"Tuned model has a testing F1 score of {:.4f}.\".format(predict_labels(clf_svc, X_test, y_test)))"
   ]
  },
  {
   "cell_type": "markdown",
   "metadata": {},
   "source": [
    "### Question 5 - Final F<sub>1</sub> Score\n",
    "*What is the final model's F<sub>1</sub> score for training and testing? How does that score compare to the untuned model?*"
   ]
  },
  {
   "cell_type": "markdown",
   "metadata": {},
   "source": [
    "**Answer: ** The final model is a support vector machine model, which achieved a F1 score of 0.8250 for the testing set. "
   ]
  },
  {
   "cell_type": "markdown",
   "metadata": {},
   "source": [
    "> **Note**: Once you have completed all of the code implementations and successfully answered each question above, you may finalize your work by exporting the iPython Notebook as an HTML document. You can do this by using the menu above and navigating to  \n",
    "**File -> Download as -> HTML (.html)**. Include the finished document along with this notebook as your submission."
   ]
  }
 ],
 "metadata": {
  "kernelspec": {
   "display_name": "Python 3",
   "language": "python",
   "name": "python3"
  },
  "language_info": {
   "codemirror_mode": {
    "name": "ipython",
    "version": 3
   },
   "file_extension": ".py",
   "mimetype": "text/x-python",
   "name": "python",
   "nbconvert_exporter": "python",
   "pygments_lexer": "ipython3",
   "version": "3.5.1"
  }
 },
 "nbformat": 4,
 "nbformat_minor": 0
}
